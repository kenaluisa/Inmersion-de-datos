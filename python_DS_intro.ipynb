{
  "nbformat": 4,
  "nbformat_minor": 0,
  "metadata": {
    "colab": {
      "provenance": [],
      "authorship_tag": "ABX9TyMOBMh7lr7h8sSx4KumdgSj",
      "include_colab_link": true
    },
    "kernelspec": {
      "name": "python3",
      "display_name": "Python 3"
    },
    "language_info": {
      "name": "python"
    }
  },
  "cells": [
    {
      "cell_type": "markdown",
      "metadata": {
        "id": "view-in-github",
        "colab_type": "text"
      },
      "source": [
        "<a href=\"https://colab.research.google.com/github/kenaluisa/Inmersion-de-datos/blob/main/python_DS_intro.ipynb\" target=\"_parent\"><img src=\"https://colab.research.google.com/assets/colab-badge.svg\" alt=\"Open In Colab\"/></a>"
      ]
    },
    {
      "cell_type": "markdown",
      "source": [
        "#**Python para DS - Introduccion al lenguaje**\n"
      ],
      "metadata": {
        "id": "xM8SCDgHTBRP"
      }
    },
    {
      "cell_type": "code",
      "source": [
        "1 + 1 "
      ],
      "metadata": {
        "colab": {
          "base_uri": "https://localhost:8080/"
        },
        "id": "ZyAA4D0NTMa7",
        "outputId": "fdc871c2-6d9d-4583-e20e-e192847372f9"
      },
      "execution_count": null,
      "outputs": [
        {
          "output_type": "execute_result",
          "data": {
            "text/plain": [
              "2"
            ]
          },
          "metadata": {},
          "execution_count": 1
        }
      ]
    },
    {
      "cell_type": "code",
      "source": [
        "nombre = 'Kena'"
      ],
      "metadata": {
        "id": "eyCwpaxETeBP"
      },
      "execution_count": null,
      "outputs": []
    },
    {
      "cell_type": "code",
      "source": [
        "nombre"
      ],
      "metadata": {
        "colab": {
          "base_uri": "https://localhost:8080/",
          "height": 35
        },
        "id": "uuDZ33bAUA8j",
        "outputId": "7f6c8c65-0070-4099-e2ce-baa3127e0e5d"
      },
      "execution_count": null,
      "outputs": [
        {
          "output_type": "execute_result",
          "data": {
            "text/plain": [
              "'Kena'"
            ],
            "application/vnd.google.colaboratory.intrinsic+json": {
              "type": "string"
            }
          },
          "metadata": {},
          "execution_count": 3
        }
      ]
    },
    {
      "cell_type": "code",
      "source": [
        "edad = 22"
      ],
      "metadata": {
        "id": "sW0pkgtHUC6W"
      },
      "execution_count": null,
      "outputs": []
    },
    {
      "cell_type": "code",
      "source": [
        "print('mi nombre es kena')"
      ],
      "metadata": {
        "colab": {
          "base_uri": "https://localhost:8080/"
        },
        "id": "cALNsHnyUGQk",
        "outputId": "341d7db3-ca37-47b5-9283-7c973bd5d931"
      },
      "execution_count": null,
      "outputs": [
        {
          "output_type": "stream",
          "name": "stdout",
          "text": [
            "mi nombre es kena\n"
          ]
        }
      ]
    },
    {
      "cell_type": "code",
      "source": [
        "print(f'mi nombre es {nombre} y mi edad es {edad}')"
      ],
      "metadata": {
        "colab": {
          "base_uri": "https://localhost:8080/"
        },
        "id": "Py7GRKJTW-Kn",
        "outputId": "ba9d1dc3-a14d-47f7-f41b-01f60308d772"
      },
      "execution_count": null,
      "outputs": [
        {
          "output_type": "stream",
          "name": "stdout",
          "text": [
            "mi nombre es Kena y mi edad es 22\n"
          ]
        }
      ]
    },
    {
      "cell_type": "code",
      "source": [
        "def saludar():\n",
        "  nombre  = input('Digite su nombre: ')\n",
        "  print(f'Hola {nombre} sea bienvenido!!')"
      ],
      "metadata": {
        "id": "aTqLkQc-Xi5H"
      },
      "execution_count": null,
      "outputs": []
    },
    {
      "cell_type": "code",
      "source": [
        "saludar()"
      ],
      "metadata": {
        "colab": {
          "base_uri": "https://localhost:8080/"
        },
        "id": "utF2A_L4Ysc9",
        "outputId": "69abdd53-f339-437f-fb3e-52d020460853"
      },
      "execution_count": null,
      "outputs": [
        {
          "output_type": "stream",
          "name": "stdout",
          "text": [
            "Digite su nombre: Kena\n",
            "Hola Kena sea bienvenido!!\n"
          ]
        }
      ]
    },
    {
      "cell_type": "code",
      "source": [
        "saludar()"
      ],
      "metadata": {
        "colab": {
          "base_uri": "https://localhost:8080/"
        },
        "id": "uFth2dWNYvyk",
        "outputId": "7cffbd57-2bdc-4cea-d367-6a2a483cd720"
      },
      "execution_count": null,
      "outputs": [
        {
          "output_type": "stream",
          "name": "stdout",
          "text": [
            "Digite su nombre: kena\n",
            "Hola kena sea bienvenido!!\n"
          ]
        }
      ]
    },
    {
      "cell_type": "code",
      "source": [
        "def nombre_completo():\n",
        "   primer_nombre = input('¿Cuál es tu primer nombre? ')\n",
        "   apellido = input('¿Cuál es tu apellido? ')\n",
        "   nombre_completo = primer_nombre + ' ' + apellido\n",
        "   print(nombre_completo)\n",
        "nombre_completo()"
      ],
      "metadata": {
        "colab": {
          "base_uri": "https://localhost:8080/"
        },
        "id": "Oln0eulwY5rs",
        "outputId": "c360487b-42ad-4505-e0ce-246fead684ce"
      },
      "execution_count": null,
      "outputs": [
        {
          "output_type": "stream",
          "name": "stdout",
          "text": [
            "¿Cuál es tu primer nombre? kena\n",
            "¿Cuál es tu apellido? matzenbacher\n",
            "kena matzenbacher\n"
          ]
        }
      ]
    },
    {
      "cell_type": "code",
      "source": [
        "nombre = 'Andres'"
      ],
      "metadata": {
        "id": "D7Hf0ljgZHn1"
      },
      "execution_count": null,
      "outputs": []
    },
    {
      "cell_type": "code",
      "source": [
        "def saludar_con_parametros(nombre):\n",
        "  print(f'Hola {nombre} sea bienvenid@')"
      ],
      "metadata": {
        "id": "RxXUutTsh9Bg"
      },
      "execution_count": null,
      "outputs": []
    },
    {
      "cell_type": "code",
      "source": [
        "saludar_con_parametros(nombre)"
      ],
      "metadata": {
        "colab": {
          "base_uri": "https://localhost:8080/"
        },
        "id": "fWeSnrjDiRs7",
        "outputId": "7e33bfd3-a731-4e74-c4f7-05e5af6a6b4a"
      },
      "execution_count": null,
      "outputs": [
        {
          "output_type": "stream",
          "name": "stdout",
          "text": [
            "Hola Andres sea bienvenid@\n"
          ]
        }
      ]
    },
    {
      "cell_type": "code",
      "source": [
        "edad = 23\n",
        "def verificar_si_puede_manejar(edad):\n",
        "  if edad>=18:\n",
        "    print('Usted tiene edad para conducir')\n",
        "  else:\n",
        "    print('Usted no puede conducir')\n",
        "\n",
        "\n",
        "verificar_si_puede_manejar(edad)"
      ],
      "metadata": {
        "colab": {
          "base_uri": "https://localhost:8080/"
        },
        "id": "LW_fRRxaiVNv",
        "outputId": "c5ab8e93-cce2-4f7f-a08e-366703f9b5a2"
      },
      "execution_count": null,
      "outputs": [
        {
          "output_type": "stream",
          "name": "stdout",
          "text": [
            "Usted tiene edad para conducir\n"
          ]
        }
      ]
    },
    {
      "cell_type": "code",
      "source": [
        "def verificar_si_puede_conducir_sin_parametro():\n",
        "  edad = input('Digite su edad: ')\n",
        "  edad = int(edad)\n",
        "  if edad>=18:\n",
        "    print('Usted tiene edad para conducir')\n",
        "  else:\n",
        "    print('Usted no puede conducir')\n",
        "\n",
        "verificar_si_puede_conducir_sin_parametro()"
      ],
      "metadata": {
        "colab": {
          "base_uri": "https://localhost:8080/"
        },
        "id": "-3KP56xUS_Eg",
        "outputId": "4ef19cf7-5972-4866-f518-d4a5d3bbdac8"
      },
      "execution_count": null,
      "outputs": [
        {
          "output_type": "stream",
          "name": "stdout",
          "text": [
            "Digite su edad: 23\n",
            "Usted tiene edad para conducir\n"
          ]
        }
      ]
    },
    {
      "cell_type": "code",
      "source": [
        "def permiso_de_conducir():\n",
        " edad = input('¿Cuál es tu edad? ')\n",
        " edad = int(edad)\n",
        " if edad >= 18:\n",
        "   print('Ya tienes edad suficiente para obtener permiso de conducir')\n",
        " else:\n",
        "   tiempo = 18 - edad\n",
        "   print(f'Tranquilo, faltan {tiempo} año(s) para obtener permiso de conducir')\n",
        "\n",
        "permiso_de_conducir()"
      ],
      "metadata": {
        "colab": {
          "base_uri": "https://localhost:8080/"
        },
        "id": "bJf1NnE-WUMj",
        "outputId": "6b19a6a0-ec5f-49f1-f064-ab29b6ac6113"
      },
      "execution_count": null,
      "outputs": [
        {
          "output_type": "stream",
          "name": "stdout",
          "text": [
            "¿Cuál es tu edad? 45\n",
            "Ya tienes edad suficiente para obtener permiso de conducir\n"
          ]
        }
      ]
    },
    {
      "cell_type": "code",
      "source": [],
      "metadata": {
        "id": "IDaOWJsPXSSK"
      },
      "execution_count": null,
      "outputs": []
    },
    {
      "cell_type": "markdown",
      "source": [
        "#uso de listas\n"
      ],
      "metadata": {
        "id": "MWGhwaClJJ3l"
      }
    },
    {
      "cell_type": "code",
      "source": [
        "edades = [23, 32, 12, 34, 19]"
      ],
      "metadata": {
        "id": "QwG-YMNUJNru"
      },
      "execution_count": 1,
      "outputs": []
    },
    {
      "cell_type": "code",
      "source": [
        "edades"
      ],
      "metadata": {
        "colab": {
          "base_uri": "https://localhost:8080/"
        },
        "id": "vhSm5vFSJV5f",
        "outputId": "59b83114-cac5-4cd4-c8b2-3dc6bf6d6063"
      },
      "execution_count": 2,
      "outputs": [
        {
          "output_type": "execute_result",
          "data": {
            "text/plain": [
              "[23, 32, 12, 34, 19]"
            ]
          },
          "metadata": {},
          "execution_count": 2
        }
      ]
    },
    {
      "cell_type": "code",
      "source": [
        "type(edades)"
      ],
      "metadata": {
        "colab": {
          "base_uri": "https://localhost:8080/"
        },
        "id": "yEhGvFv_JXNC",
        "outputId": "c506d6b5-a2d4-40b7-a728-ae877d54e49e"
      },
      "execution_count": 3,
      "outputs": [
        {
          "output_type": "execute_result",
          "data": {
            "text/plain": [
              "list"
            ]
          },
          "metadata": {},
          "execution_count": 3
        }
      ]
    },
    {
      "cell_type": "code",
      "source": [
        "nombre= 'Kena'"
      ],
      "metadata": {
        "id": "iN4NHxrZJcfq"
      },
      "execution_count": 4,
      "outputs": []
    },
    {
      "cell_type": "code",
      "source": [
        "edades[2]"
      ],
      "metadata": {
        "colab": {
          "base_uri": "https://localhost:8080/"
        },
        "id": "L_6hFkscJh9x",
        "outputId": "d2780c63-e664-4aa8-d08e-f3f82e4bd817"
      },
      "execution_count": 5,
      "outputs": [
        {
          "output_type": "execute_result",
          "data": {
            "text/plain": [
              "12"
            ]
          },
          "metadata": {},
          "execution_count": 5
        }
      ]
    },
    {
      "cell_type": "code",
      "source": [
        "edades[0:2]"
      ],
      "metadata": {
        "colab": {
          "base_uri": "https://localhost:8080/"
        },
        "id": "5_Ps6eZJJ5FS",
        "outputId": "33cba82e-7c52-4ddf-c813-fae93b619c11"
      },
      "execution_count": 6,
      "outputs": [
        {
          "output_type": "execute_result",
          "data": {
            "text/plain": [
              "[23, 32]"
            ]
          },
          "metadata": {},
          "execution_count": 6
        }
      ]
    },
    {
      "cell_type": "code",
      "source": [
        "edades[:3]"
      ],
      "metadata": {
        "colab": {
          "base_uri": "https://localhost:8080/"
        },
        "id": "3jCkYz_RJmJs",
        "outputId": "cd2513d5-2eb3-40ba-8e51-70880692a891"
      },
      "execution_count": 7,
      "outputs": [
        {
          "output_type": "execute_result",
          "data": {
            "text/plain": [
              "[23, 32, 12]"
            ]
          },
          "metadata": {},
          "execution_count": 7
        }
      ]
    },
    {
      "cell_type": "code",
      "source": [
        "edades[2:]"
      ],
      "metadata": {
        "colab": {
          "base_uri": "https://localhost:8080/"
        },
        "id": "jEK9jgjSKBxC",
        "outputId": "3cbf3604-179b-4614-c48b-fa4a459adc92"
      },
      "execution_count": 8,
      "outputs": [
        {
          "output_type": "execute_result",
          "data": {
            "text/plain": [
              "[12, 34, 19]"
            ]
          },
          "metadata": {},
          "execution_count": 8
        }
      ]
    },
    {
      "cell_type": "code",
      "source": [
        "edades[-3]"
      ],
      "metadata": {
        "colab": {
          "base_uri": "https://localhost:8080/"
        },
        "id": "98wtBpjAKLg3",
        "outputId": "3412e567-3b58-42c3-8f09-3cb85e76c933"
      },
      "execution_count": 9,
      "outputs": [
        {
          "output_type": "execute_result",
          "data": {
            "text/plain": [
              "12"
            ]
          },
          "metadata": {},
          "execution_count": 9
        }
      ]
    },
    {
      "cell_type": "code",
      "source": [
        "frase_alura = [' Digitales', 'y ', 'Negocios ', 'de ', 'Tecnología ', 'Cursos ']"
      ],
      "metadata": {
        "id": "mw7kCRcWKWgH"
      },
      "execution_count": 10,
      "outputs": []
    },
    {
      "cell_type": "code",
      "source": [
        "frase_alura[-1] + frase_alura[3] + frase_alura[-2] + frase_alura[1] + frase_alura[2] + frase_alura[0]\n",
        "\n"
      ],
      "metadata": {
        "colab": {
          "base_uri": "https://localhost:8080/",
          "height": 35
        },
        "id": "OTPE665nKpiL",
        "outputId": "2ab456cf-b54c-414d-84b0-93cf04b0f1e0"
      },
      "execution_count": 11,
      "outputs": [
        {
          "output_type": "execute_result",
          "data": {
            "text/plain": [
              "'Cursos de Tecnología y Negocios  Digitales'"
            ],
            "application/vnd.google.colaboratory.intrinsic+json": {
              "type": "string"
            }
          },
          "metadata": {},
          "execution_count": 11
        }
      ]
    },
    {
      "cell_type": "markdown",
      "source": [
        "#bucles  y  funciones"
      ],
      "metadata": {
        "id": "HPgFVYPzM4jy"
      }
    },
    {
      "cell_type": "code",
      "source": [
        "#bucle fuera de la funcion\n",
        "edades = [23, 32, 12, 34, 19]\n",
        "\n",
        "def verificar_si_puede_manejar(edad):\n",
        "  if edad>=18:\n",
        "    print('Usted tiene edad para conducir')\n",
        "  else:\n",
        "    print('Usted no puede conducir')\n",
        "\n",
        "for edad in edades:\n",
        "  verificar_si_puede_manejar(edad)\n",
        "\n"
      ],
      "metadata": {
        "colab": {
          "base_uri": "https://localhost:8080/"
        },
        "id": "RwXUrCv7K46m",
        "outputId": "6183eac7-7896-4421-cb7a-094abe63a91c"
      },
      "execution_count": 13,
      "outputs": [
        {
          "output_type": "stream",
          "name": "stdout",
          "text": [
            "Usted tiene edad para conducir\n",
            "Usted tiene edad para conducir\n",
            "Usted no puede conducir\n",
            "Usted tiene edad para conducir\n",
            "Usted tiene edad para conducir\n"
          ]
        }
      ]
    },
    {
      "cell_type": "code",
      "source": [
        "#bucle dentro d la funcion\n",
        "\n",
        "edades = [23, 32, 12, 34, 19]\n",
        "\n",
        "def verificar_si_puede_manejar_con_bucle(edades):\n",
        "  for edad in edades:\n",
        "    if edad>=18:\n",
        "      print('Usted tiene edad para conducir')\n",
        "    else:\n",
        "      print('Usted no puede conducir')\n",
        "\n",
        "\n",
        "verificar_si_puede_manejar_con_bucle(edades)\n",
        "\n",
        "\n",
        "\n"
      ],
      "metadata": {
        "colab": {
          "base_uri": "https://localhost:8080/"
        },
        "id": "5ef471GbMnNM",
        "outputId": "66302960-b293-4114-c64b-3107ffdfab61"
      },
      "execution_count": 3,
      "outputs": [
        {
          "output_type": "stream",
          "name": "stdout",
          "text": [
            "Usted tiene edad para conducir\n",
            "Usted tiene edad para conducir\n",
            "Usted no puede conducir\n",
            "Usted tiene edad para conducir\n",
            "Usted tiene edad para conducir\n"
          ]
        }
      ]
    },
    {
      "cell_type": "markdown",
      "source": [
        "#variables de tipo Booleano\n"
      ],
      "metadata": {
        "id": "xK4POsiql3S-"
      }
    },
    {
      "cell_type": "code",
      "source": [
        "verificaciones = []\n",
        "edades= [12,23,19]\n",
        "\n",
        "def verificar_si_puede_manejar_bool(verificaciones, edades):\n",
        "  for edad in edades:\n",
        "    if edad>=18:\n",
        "      verificaciones.append(True)\n",
        "    else:\n",
        "      verificaciones.append(False)\n",
        "  for verificacion in verificaciones:\n",
        "    if verificacion == True:\n",
        "      print('Usted tiene edad para conducir')\n",
        "    else:\n",
        "        print('Usted NO tiene edad suficiente para conducir')\n",
        "\n",
        "\n",
        "verificar_si_puede_manejar_bool(verificaciones, edades)\n"
      ],
      "metadata": {
        "colab": {
          "base_uri": "https://localhost:8080/"
        },
        "id": "kzAkGAGfiEAy",
        "outputId": "f14aa7ba-e811-4383-a21e-0ba58fd57b0d"
      },
      "execution_count": 4,
      "outputs": [
        {
          "output_type": "stream",
          "name": "stdout",
          "text": [
            "Usted NO tiene edad suficiente para conducir\n",
            "Usted tiene edad para conducir\n",
            "Usted tiene edad para conducir\n"
          ]
        }
      ]
    },
    {
      "cell_type": "code",
      "source": [
        "verificaciones"
      ],
      "metadata": {
        "colab": {
          "base_uri": "https://localhost:8080/"
        },
        "id": "lsSe037Gk5HK",
        "outputId": "42608714-0327-48c3-cb98-43e26802ff77"
      },
      "execution_count": 5,
      "outputs": [
        {
          "output_type": "execute_result",
          "data": {
            "text/plain": [
              "[False, True, True]"
            ]
          },
          "metadata": {},
          "execution_count": 5
        }
      ]
    },
    {
      "cell_type": "code",
      "source": [],
      "metadata": {
        "id": "RmHdCUlelIBh"
      },
      "execution_count": null,
      "outputs": []
    },
    {
      "cell_type": "markdown",
      "source": [
        "#lista con diferentes tipos de Datos"
      ],
      "metadata": {
        "id": "LRVn67BSmibW"
      }
    },
    {
      "cell_type": "code",
      "source": [
        "persona=['Kena', 19, True, 'Argentina']"
      ],
      "metadata": {
        "id": "dJ8-ZHtFmmzb"
      },
      "execution_count": 1,
      "outputs": []
    },
    {
      "cell_type": "code",
      "source": [
        "for elemento in persona:\n",
        "  print(f'por cada elemento {elemento} de la lista mixta es el tipo: ', type(elemento))"
      ],
      "metadata": {
        "colab": {
          "base_uri": "https://localhost:8080/"
        },
        "id": "z36BcxrPmxu8",
        "outputId": "59b18ad7-169a-4ebe-d4db-15c0f07ef888"
      },
      "execution_count": 2,
      "outputs": [
        {
          "output_type": "stream",
          "name": "stdout",
          "text": [
            "por cada elemento Kena de la lista mixta es el tipo:  <class 'str'>\n",
            "por cada elemento 19 de la lista mixta es el tipo:  <class 'int'>\n",
            "por cada elemento True de la lista mixta es el tipo:  <class 'bool'>\n",
            "por cada elemento Argentina de la lista mixta es el tipo:  <class 'str'>\n"
          ]
        }
      ]
    },
    {
      "cell_type": "code",
      "source": [],
      "metadata": {
        "id": "yekUO4M8nNFX"
      },
      "execution_count": null,
      "outputs": []
    },
    {
      "cell_type": "markdown",
      "source": [
        "#importando libreria"
      ],
      "metadata": {
        "id": "N6xeRoBHMrKk"
      }
    },
    {
      "cell_type": "code",
      "source": [
        "from random import randrange, seed"
      ],
      "metadata": {
        "id": "qa1rmgSsMuDP"
      },
      "execution_count": 22,
      "outputs": []
    },
    {
      "cell_type": "code",
      "source": [
        "randrange(0,11)"
      ],
      "metadata": {
        "colab": {
          "base_uri": "https://localhost:8080/"
        },
        "id": "dZHNGJdiM2Ay",
        "outputId": "60fd0a94-396c-473b-daff-52c9fb8db8d0"
      },
      "execution_count": 6,
      "outputs": [
        {
          "output_type": "execute_result",
          "data": {
            "text/plain": [
              "10"
            ]
          },
          "metadata": {},
          "execution_count": 6
        }
      ]
    },
    {
      "cell_type": "code",
      "source": [
        "notas_matematicas= []"
      ],
      "metadata": {
        "id": "ge13bmOmM496"
      },
      "execution_count": 8,
      "outputs": []
    },
    {
      "cell_type": "code",
      "source": [
        "notas_matematicas.append(randrange(0,11))"
      ],
      "metadata": {
        "id": "mVlwgvZNNXcd"
      },
      "execution_count": 9,
      "outputs": []
    },
    {
      "cell_type": "code",
      "source": [
        "notas_matematicas\n"
      ],
      "metadata": {
        "colab": {
          "base_uri": "https://localhost:8080/"
        },
        "id": "oCERGyrXNjGM",
        "outputId": "52d98caf-ebce-4cc7-abe0-64fd2377368a"
      },
      "execution_count": 11,
      "outputs": [
        {
          "output_type": "execute_result",
          "data": {
            "text/plain": [
              "[0]"
            ]
          },
          "metadata": {},
          "execution_count": 11
        }
      ]
    },
    {
      "cell_type": "code",
      "source": [
        "notas_matematicas = []\n",
        "for notas in range(6):\n",
        "  notas_matematicas.append(randrange(0,11))"
      ],
      "metadata": {
        "id": "2M-gKsKsNmdK"
      },
      "execution_count": 19,
      "outputs": []
    },
    {
      "cell_type": "code",
      "source": [
        "notas_matematicas\n"
      ],
      "metadata": {
        "colab": {
          "base_uri": "https://localhost:8080/"
        },
        "id": "MWxMy9k0N4pM",
        "outputId": "8e233788-0d66-4b25-ab91-83fb32b63c8d"
      },
      "execution_count": 23,
      "outputs": [
        {
          "output_type": "execute_result",
          "data": {
            "text/plain": [
              "[0, 8, 1, 10, 5, 4]"
            ]
          },
          "metadata": {},
          "execution_count": 23
        }
      ]
    },
    {
      "cell_type": "code",
      "source": [
        "len(notas_matematicas)"
      ],
      "metadata": {
        "colab": {
          "base_uri": "https://localhost:8080/"
        },
        "id": "aE-3nJUWN5Zv",
        "outputId": "496a4b2d-aa3e-42d7-c30a-9a2b137f7716"
      },
      "execution_count": 21,
      "outputs": [
        {
          "output_type": "execute_result",
          "data": {
            "text/plain": [
              "6"
            ]
          },
          "metadata": {},
          "execution_count": 21
        }
      ]
    },
    {
      "cell_type": "markdown",
      "source": [
        "#-biblioteca matplotlib"
      ],
      "metadata": {
        "id": "zjVv_vNUQ4lC"
      }
    },
    {
      "cell_type": "code",
      "source": [
        "import matplotlib.pyplot as plt"
      ],
      "metadata": {
        "id": "WRrYCGXLOJ8Y"
      },
      "execution_count": 24,
      "outputs": []
    },
    {
      "cell_type": "code",
      "source": [
        "list(range(1,7))"
      ],
      "metadata": {
        "colab": {
          "base_uri": "https://localhost:8080/"
        },
        "id": "GQqNXavnRRkc",
        "outputId": "74914422-29fa-48c8-c2b6-1a2d39f66709"
      },
      "execution_count": 25,
      "outputs": [
        {
          "output_type": "execute_result",
          "data": {
            "text/plain": [
              "[1, 2, 3, 4, 5, 6]"
            ]
          },
          "metadata": {},
          "execution_count": 25
        }
      ]
    },
    {
      "cell_type": "code",
      "source": [
        "x =  list(range(1,7))\n",
        "y = notas_matematicas \n",
        "\n",
        "plt.plot(x,y, marker= 'o')\n",
        "plt.title('Grafico de las notas de matematicas')\n",
        "plt.xlabel('Pruebas')\n",
        "plt.ylabel('Notas')\n",
        "plt.show()\n"
      ],
      "metadata": {
        "colab": {
          "base_uri": "https://localhost:8080/",
          "height": 472
        },
        "id": "MvmlJvs3Reli",
        "outputId": "6e083d7b-1504-4d58-899e-df6d79f58d1b"
      },
      "execution_count": 29,
      "outputs": [
        {
          "output_type": "display_data",
          "data": {
            "text/plain": [
              "<Figure size 640x480 with 1 Axes>"
            ],
            "image/png": "[encoded data removed]"
          },
          "metadata": {}
        }
      ]
    },
    {
      "cell_type": "code",
      "source": [
        "\n",
        "\n",
        "notas_matematica = ['Matemática',8,7,6,6,7,7,8,10]\n",
        "notas_lenguaje = ['Lenguaje',9,9,9,8,5,6,8,5]\n",
        "notas_geografia = ['Geografía',10,10,6,7,7,7,8,7]\n",
        "\n",
        "notas = [notas_matematica, notas_lenguaje, notas_geografia]"
      ],
      "metadata": {
        "id": "PLfBKNe_Rn6e"
      },
      "execution_count": 31,
      "outputs": []
    },
    {
      "cell_type": "code",
      "source": [
        "for nota in notas:\n",
        " x = list(range(1, 9))\n",
        " y = nota[1:]\n",
        " plt.plot(x, y, marker='o')\n",
        " plt.xlabel('Exámenes')\n",
        " plt.ylabel('Notas')\n",
        " plt.title(nota[0])\n",
        " plt.show()"
      ],
      "metadata": {
        "colab": {
          "base_uri": "https://localhost:8080/",
          "height": 1000
        },
        "id": "bnUxPeeTTEvA",
        "outputId": "278b3b96-7a18-4d5c-8994-02f11e02df24"
      },
      "execution_count": 34,
      "outputs": [
        {
          "output_type": "display_data",
          "data": {
            "text/plain": [
              "<Figure size 640x480 with 1 Axes>"
            ],
            "image/png": "[encoded data removed]"
          },
          "metadata": {}
        },
        {
          "output_type": "display_data",
          "data": {
            "text/plain": [
              "<Figure size 640x480 with 1 Axes>"
            ],
            "image/png": "[encoded data removed]"
          },
          "metadata": {}
        },
        {
          "output_type": "display_data",
          "data": {
            "text/plain": [
              "<Figure size 640x480 with 1 Axes>"
            ],
            "image/png": "[encoded data removed]"
          },
          "metadata": {}
        }
      ]
    }
  ]
}